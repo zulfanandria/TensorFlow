{
  "nbformat": 4,
  "nbformat_minor": 0,
  "metadata": {
    "colab": {
      "name": "TF2.0 Linear Classification.ipynb",
      "provenance": [],
      "authorship_tag": "ABX9TyNBW2VkTiki0JAj/paLyFAJ",
      "include_colab_link": true
    },
    "kernelspec": {
      "name": "python3",
      "display_name": "Python 3"
    },
    "language_info": {
      "name": "python"
    }
  },
  "cells": [
    {
      "cell_type": "markdown",
      "metadata": {
        "id": "view-in-github",
        "colab_type": "text"
      },
      "source": [
        "<a href=\"https://colab.research.google.com/github/zulfanandria/TensorFlow/blob/main/TF2_0_Linear_Classification.ipynb\" target=\"_parent\"><img src=\"https://colab.research.google.com/assets/colab-badge.svg\" alt=\"Open In Colab\"/></a>"
      ]
    },
    {
      "cell_type": "code",
      "execution_count": 2,
      "metadata": {
        "colab": {
          "base_uri": "https://localhost:8080/"
        },
        "id": "9Y0iEZltV8bx",
        "outputId": "806a059f-5573-48fc-a25b-e0cd6796d1ca"
      },
      "outputs": [
        {
          "output_type": "stream",
          "name": "stdout",
          "text": [
            "2.8.2\n"
          ]
        }
      ],
      "source": [
        "import tensorflow as tf\n",
        "print(tf.__version__)"
      ]
    },
    {
      "cell_type": "code",
      "source": [
        "from sklearn.datasets import load_breast_cancer"
      ],
      "metadata": {
        "id": "m3RiA94daHXE"
      },
      "execution_count": 3,
      "outputs": []
    },
    {
      "cell_type": "code",
      "source": [
        "data = load_breast_cancer()"
      ],
      "metadata": {
        "id": "DtSmj8jCaNzx"
      },
      "execution_count": 4,
      "outputs": []
    },
    {
      "cell_type": "code",
      "source": [
        "type(data)"
      ],
      "metadata": {
        "colab": {
          "base_uri": "https://localhost:8080/"
        },
        "id": "DfixBXaUamA_",
        "outputId": "d6c9826b-9c8c-4508-8d03-05e78447a85b"
      },
      "execution_count": 5,
      "outputs": [
        {
          "output_type": "execute_result",
          "data": {
            "text/plain": [
              "sklearn.utils.Bunch"
            ]
          },
          "metadata": {},
          "execution_count": 5
        }
      ]
    },
    {
      "cell_type": "code",
      "source": [
        "data.keys()"
      ],
      "metadata": {
        "colab": {
          "base_uri": "https://localhost:8080/"
        },
        "id": "NObdQ-miasxH",
        "outputId": "d0130f57-6fbe-4eda-c986-93fb457a5249"
      },
      "execution_count": 6,
      "outputs": [
        {
          "output_type": "execute_result",
          "data": {
            "text/plain": [
              "dict_keys(['data', 'target', 'frame', 'target_names', 'DESCR', 'feature_names', 'filename', 'data_module'])"
            ]
          },
          "metadata": {},
          "execution_count": 6
        }
      ]
    },
    {
      "cell_type": "code",
      "source": [
        "data.data.shape"
      ],
      "metadata": {
        "colab": {
          "base_uri": "https://localhost:8080/"
        },
        "id": "sLyriFL_ayfI",
        "outputId": "16604941-edae-4349-c111-987260a3f7c3"
      },
      "execution_count": 7,
      "outputs": [
        {
          "output_type": "execute_result",
          "data": {
            "text/plain": [
              "(569, 30)"
            ]
          },
          "metadata": {},
          "execution_count": 7
        }
      ]
    },
    {
      "cell_type": "code",
      "source": [
        "data.target"
      ],
      "metadata": {
        "colab": {
          "base_uri": "https://localhost:8080/"
        },
        "id": "jZbIswl9a3lZ",
        "outputId": "3fc906f2-4107-401e-a8cd-0b29e9718c28"
      },
      "execution_count": 8,
      "outputs": [
        {
          "output_type": "execute_result",
          "data": {
            "text/plain": [
              "array([0, 0, 0, 0, 0, 0, 0, 0, 0, 0, 0, 0, 0, 0, 0, 0, 0, 0, 0, 1, 1, 1,\n",
              "       0, 0, 0, 0, 0, 0, 0, 0, 0, 0, 0, 0, 0, 0, 0, 1, 0, 0, 0, 0, 0, 0,\n",
              "       0, 0, 1, 0, 1, 1, 1, 1, 1, 0, 0, 1, 0, 0, 1, 1, 1, 1, 0, 1, 0, 0,\n",
              "       1, 1, 1, 1, 0, 1, 0, 0, 1, 0, 1, 0, 0, 1, 1, 1, 0, 0, 1, 0, 0, 0,\n",
              "       1, 1, 1, 0, 1, 1, 0, 0, 1, 1, 1, 0, 0, 1, 1, 1, 1, 0, 1, 1, 0, 1,\n",
              "       1, 1, 1, 1, 1, 1, 1, 0, 0, 0, 1, 0, 0, 1, 1, 1, 0, 0, 1, 0, 1, 0,\n",
              "       0, 1, 0, 0, 1, 1, 0, 1, 1, 0, 1, 1, 1, 1, 0, 1, 1, 1, 1, 1, 1, 1,\n",
              "       1, 1, 0, 1, 1, 1, 1, 0, 0, 1, 0, 1, 1, 0, 0, 1, 1, 0, 0, 1, 1, 1,\n",
              "       1, 0, 1, 1, 0, 0, 0, 1, 0, 1, 0, 1, 1, 1, 0, 1, 1, 0, 0, 1, 0, 0,\n",
              "       0, 0, 1, 0, 0, 0, 1, 0, 1, 0, 1, 1, 0, 1, 0, 0, 0, 0, 1, 1, 0, 0,\n",
              "       1, 1, 1, 0, 1, 1, 1, 1, 1, 0, 0, 1, 1, 0, 1, 1, 0, 0, 1, 0, 1, 1,\n",
              "       1, 1, 0, 1, 1, 1, 1, 1, 0, 1, 0, 0, 0, 0, 0, 0, 0, 0, 0, 0, 0, 0,\n",
              "       0, 0, 1, 1, 1, 1, 1, 1, 0, 1, 0, 1, 1, 0, 1, 1, 0, 1, 0, 0, 1, 1,\n",
              "       1, 1, 1, 1, 1, 1, 1, 1, 1, 1, 1, 0, 1, 1, 0, 1, 0, 1, 1, 1, 1, 1,\n",
              "       1, 1, 1, 1, 1, 1, 1, 1, 1, 0, 1, 1, 1, 0, 1, 0, 1, 1, 1, 1, 0, 0,\n",
              "       0, 1, 1, 1, 1, 0, 1, 0, 1, 0, 1, 1, 1, 0, 1, 1, 1, 1, 1, 1, 1, 0,\n",
              "       0, 0, 1, 1, 1, 1, 1, 1, 1, 1, 1, 1, 1, 0, 0, 1, 0, 0, 0, 1, 0, 0,\n",
              "       1, 1, 1, 1, 1, 0, 1, 1, 1, 1, 1, 0, 1, 1, 1, 0, 1, 1, 0, 0, 1, 1,\n",
              "       1, 1, 1, 1, 0, 1, 1, 1, 1, 1, 1, 1, 0, 1, 1, 1, 1, 1, 0, 1, 1, 0,\n",
              "       1, 1, 1, 1, 1, 1, 1, 1, 1, 1, 1, 1, 0, 1, 0, 0, 1, 0, 1, 1, 1, 1,\n",
              "       1, 0, 1, 1, 0, 1, 0, 1, 1, 0, 1, 0, 1, 1, 1, 1, 1, 1, 1, 1, 0, 0,\n",
              "       1, 1, 1, 1, 1, 1, 0, 1, 1, 1, 1, 1, 1, 1, 1, 1, 1, 0, 1, 1, 1, 1,\n",
              "       1, 1, 1, 0, 1, 0, 1, 1, 0, 1, 1, 1, 1, 1, 0, 0, 1, 0, 1, 0, 1, 1,\n",
              "       1, 1, 1, 0, 1, 1, 0, 1, 0, 1, 0, 0, 1, 1, 1, 0, 1, 1, 1, 1, 1, 1,\n",
              "       1, 1, 1, 1, 1, 0, 1, 0, 0, 1, 1, 1, 1, 1, 1, 1, 1, 1, 1, 1, 1, 1,\n",
              "       1, 1, 1, 1, 1, 1, 1, 1, 1, 1, 1, 1, 0, 0, 0, 0, 0, 0, 1])"
            ]
          },
          "metadata": {},
          "execution_count": 8
        }
      ]
    },
    {
      "cell_type": "code",
      "source": [
        "data.target_names"
      ],
      "metadata": {
        "colab": {
          "base_uri": "https://localhost:8080/"
        },
        "id": "8hjF7nD-a7Ke",
        "outputId": "5f7f1b8b-1c8f-4d15-ed1e-f5f34326783f"
      },
      "execution_count": 9,
      "outputs": [
        {
          "output_type": "execute_result",
          "data": {
            "text/plain": [
              "array(['malignant', 'benign'], dtype='<U9')"
            ]
          },
          "metadata": {},
          "execution_count": 9
        }
      ]
    },
    {
      "cell_type": "code",
      "source": [
        "data.target.shape"
      ],
      "metadata": {
        "colab": {
          "base_uri": "https://localhost:8080/"
        },
        "id": "LnY34x9La_ya",
        "outputId": "f93f1a5d-7685-4748-ba8a-3fd54f3f0f31"
      },
      "execution_count": 10,
      "outputs": [
        {
          "output_type": "execute_result",
          "data": {
            "text/plain": [
              "(569,)"
            ]
          },
          "metadata": {},
          "execution_count": 10
        }
      ]
    },
    {
      "cell_type": "code",
      "source": [
        "data.feature_names"
      ],
      "metadata": {
        "colab": {
          "base_uri": "https://localhost:8080/"
        },
        "id": "5aHRHbnkbEIL",
        "outputId": "068e1f0a-50c1-4d38-bc3f-6feb64211d4f"
      },
      "execution_count": 11,
      "outputs": [
        {
          "output_type": "execute_result",
          "data": {
            "text/plain": [
              "array(['mean radius', 'mean texture', 'mean perimeter', 'mean area',\n",
              "       'mean smoothness', 'mean compactness', 'mean concavity',\n",
              "       'mean concave points', 'mean symmetry', 'mean fractal dimension',\n",
              "       'radius error', 'texture error', 'perimeter error', 'area error',\n",
              "       'smoothness error', 'compactness error', 'concavity error',\n",
              "       'concave points error', 'symmetry error',\n",
              "       'fractal dimension error', 'worst radius', 'worst texture',\n",
              "       'worst perimeter', 'worst area', 'worst smoothness',\n",
              "       'worst compactness', 'worst concavity', 'worst concave points',\n",
              "       'worst symmetry', 'worst fractal dimension'], dtype='<U23')"
            ]
          },
          "metadata": {},
          "execution_count": 11
        }
      ]
    },
    {
      "cell_type": "code",
      "source": [
        "from sklearn.model_selection import train_test_split\n",
        "\n",
        "x_train, x_test, y_train, y_test = train_test_split(data.data, data.target, test_size=0.33)\n",
        "N, D = x_train.shape"
      ],
      "metadata": {
        "id": "7b-BZZZTbHd5"
      },
      "execution_count": 12,
      "outputs": []
    },
    {
      "cell_type": "code",
      "source": [
        "from sklearn.preprocessing import StandardScaler\n",
        "\n",
        "scaler = StandardScaler()\n",
        "x_train = scaler.fit_transform(x_train)\n",
        "x_test = scaler.transform(x_test)"
      ],
      "metadata": {
        "id": "VsLjrm1ybTpy"
      },
      "execution_count": 13,
      "outputs": []
    },
    {
      "cell_type": "code",
      "source": [
        "model = tf.keras.models.Sequential([\n",
        "  tf.keras.layers.Input(shape=(D,)), \n",
        "  tf.keras.layers.Dense(1, activation='sigmoid')\n",
        "])\n",
        "\n",
        "model.compile(optimizer='adam', loss = 'binary_crossentropy', metrics = ['accuracy'])\n",
        "\n",
        "r = model.fit(x_train, y_train, validation_data=(x_test, y_test), epochs=100)\n",
        "\n",
        "print(\"Train score:\", model.evaluate(x_train, y_train))\n",
        "print(\"Test score:\", model.evaluate(x_test, y_test))"
      ],
      "metadata": {
        "colab": {
          "base_uri": "https://localhost:8080/"
        },
        "id": "57oPUmwGcVvO",
        "outputId": "bc0f3eda-54b6-4e86-af3f-71193503f1f3"
      },
      "execution_count": 14,
      "outputs": [
        {
          "output_type": "stream",
          "name": "stdout",
          "text": [
            "Epoch 1/100\n",
            "12/12 [==============================] - 2s 76ms/step - loss: 1.2061 - accuracy: 0.2100 - val_loss: 1.2140 - val_accuracy: 0.1755\n",
            "Epoch 2/100\n",
            "12/12 [==============================] - 0s 13ms/step - loss: 1.0971 - accuracy: 0.2362 - val_loss: 1.0947 - val_accuracy: 0.2128\n",
            "Epoch 3/100\n",
            "12/12 [==============================] - 0s 12ms/step - loss: 0.9945 - accuracy: 0.2808 - val_loss: 0.9857 - val_accuracy: 0.2926\n",
            "Epoch 4/100\n",
            "12/12 [==============================] - 0s 13ms/step - loss: 0.9015 - accuracy: 0.3255 - val_loss: 0.8886 - val_accuracy: 0.4096\n",
            "Epoch 5/100\n",
            "12/12 [==============================] - 0s 23ms/step - loss: 0.8202 - accuracy: 0.3990 - val_loss: 0.8009 - val_accuracy: 0.5053\n",
            "Epoch 6/100\n",
            "12/12 [==============================] - 0s 20ms/step - loss: 0.7484 - accuracy: 0.4908 - val_loss: 0.7254 - val_accuracy: 0.5798\n",
            "Epoch 7/100\n",
            "12/12 [==============================] - 0s 12ms/step - loss: 0.6861 - accuracy: 0.6010 - val_loss: 0.6604 - val_accuracy: 0.6436\n",
            "Epoch 8/100\n",
            "12/12 [==============================] - 0s 8ms/step - loss: 0.6327 - accuracy: 0.6404 - val_loss: 0.6051 - val_accuracy: 0.7181\n",
            "Epoch 9/100\n",
            "12/12 [==============================] - 0s 13ms/step - loss: 0.5860 - accuracy: 0.7165 - val_loss: 0.5602 - val_accuracy: 0.7819\n",
            "Epoch 10/100\n",
            "12/12 [==============================] - 0s 16ms/step - loss: 0.5484 - accuracy: 0.7664 - val_loss: 0.5206 - val_accuracy: 0.8191\n",
            "Epoch 11/100\n",
            "12/12 [==============================] - 0s 11ms/step - loss: 0.5150 - accuracy: 0.7900 - val_loss: 0.4872 - val_accuracy: 0.8511\n",
            "Epoch 12/100\n",
            "12/12 [==============================] - 0s 13ms/step - loss: 0.4871 - accuracy: 0.8189 - val_loss: 0.4576 - val_accuracy: 0.8723\n",
            "Epoch 13/100\n",
            "12/12 [==============================] - 0s 12ms/step - loss: 0.4620 - accuracy: 0.8451 - val_loss: 0.4325 - val_accuracy: 0.8777\n",
            "Epoch 14/100\n",
            "12/12 [==============================] - 0s 9ms/step - loss: 0.4401 - accuracy: 0.8635 - val_loss: 0.4105 - val_accuracy: 0.8883\n",
            "Epoch 15/100\n",
            "12/12 [==============================] - 0s 14ms/step - loss: 0.4210 - accuracy: 0.8766 - val_loss: 0.3905 - val_accuracy: 0.9043\n",
            "Epoch 16/100\n",
            "12/12 [==============================] - 0s 7ms/step - loss: 0.4034 - accuracy: 0.8871 - val_loss: 0.3728 - val_accuracy: 0.9149\n",
            "Epoch 17/100\n",
            "12/12 [==============================] - 0s 11ms/step - loss: 0.3877 - accuracy: 0.8950 - val_loss: 0.3570 - val_accuracy: 0.9202\n",
            "Epoch 18/100\n",
            "12/12 [==============================] - 0s 18ms/step - loss: 0.3736 - accuracy: 0.9029 - val_loss: 0.3428 - val_accuracy: 0.9255\n",
            "Epoch 19/100\n",
            "12/12 [==============================] - 0s 25ms/step - loss: 0.3605 - accuracy: 0.9134 - val_loss: 0.3296 - val_accuracy: 0.9255\n",
            "Epoch 20/100\n",
            "12/12 [==============================] - 0s 18ms/step - loss: 0.3487 - accuracy: 0.9186 - val_loss: 0.3177 - val_accuracy: 0.9255\n",
            "Epoch 21/100\n",
            "12/12 [==============================] - 0s 24ms/step - loss: 0.3377 - accuracy: 0.9213 - val_loss: 0.3064 - val_accuracy: 0.9309\n",
            "Epoch 22/100\n",
            "12/12 [==============================] - 0s 22ms/step - loss: 0.3275 - accuracy: 0.9239 - val_loss: 0.2960 - val_accuracy: 0.9309\n",
            "Epoch 23/100\n",
            "12/12 [==============================] - 0s 18ms/step - loss: 0.3179 - accuracy: 0.9265 - val_loss: 0.2864 - val_accuracy: 0.9309\n",
            "Epoch 24/100\n",
            "12/12 [==============================] - 0s 14ms/step - loss: 0.3092 - accuracy: 0.9291 - val_loss: 0.2774 - val_accuracy: 0.9309\n",
            "Epoch 25/100\n",
            "12/12 [==============================] - 0s 15ms/step - loss: 0.3007 - accuracy: 0.9318 - val_loss: 0.2693 - val_accuracy: 0.9309\n",
            "Epoch 26/100\n",
            "12/12 [==============================] - 0s 13ms/step - loss: 0.2929 - accuracy: 0.9344 - val_loss: 0.2617 - val_accuracy: 0.9309\n",
            "Epoch 27/100\n",
            "12/12 [==============================] - 0s 9ms/step - loss: 0.2858 - accuracy: 0.9344 - val_loss: 0.2541 - val_accuracy: 0.9362\n",
            "Epoch 28/100\n",
            "12/12 [==============================] - 0s 19ms/step - loss: 0.2788 - accuracy: 0.9370 - val_loss: 0.2471 - val_accuracy: 0.9362\n",
            "Epoch 29/100\n",
            "12/12 [==============================] - 0s 15ms/step - loss: 0.2722 - accuracy: 0.9370 - val_loss: 0.2407 - val_accuracy: 0.9362\n",
            "Epoch 30/100\n",
            "12/12 [==============================] - 0s 17ms/step - loss: 0.2661 - accuracy: 0.9370 - val_loss: 0.2346 - val_accuracy: 0.9362\n",
            "Epoch 31/100\n",
            "12/12 [==============================] - 0s 22ms/step - loss: 0.2602 - accuracy: 0.9423 - val_loss: 0.2288 - val_accuracy: 0.9362\n",
            "Epoch 32/100\n",
            "12/12 [==============================] - 0s 20ms/step - loss: 0.2547 - accuracy: 0.9449 - val_loss: 0.2234 - val_accuracy: 0.9362\n",
            "Epoch 33/100\n",
            "12/12 [==============================] - 0s 12ms/step - loss: 0.2494 - accuracy: 0.9449 - val_loss: 0.2186 - val_accuracy: 0.9362\n",
            "Epoch 34/100\n",
            "12/12 [==============================] - 0s 22ms/step - loss: 0.2444 - accuracy: 0.9475 - val_loss: 0.2136 - val_accuracy: 0.9415\n",
            "Epoch 35/100\n",
            "12/12 [==============================] - 0s 16ms/step - loss: 0.2395 - accuracy: 0.9475 - val_loss: 0.2089 - val_accuracy: 0.9415\n",
            "Epoch 36/100\n",
            "12/12 [==============================] - 0s 18ms/step - loss: 0.2351 - accuracy: 0.9475 - val_loss: 0.2042 - val_accuracy: 0.9415\n",
            "Epoch 37/100\n",
            "12/12 [==============================] - 0s 12ms/step - loss: 0.2306 - accuracy: 0.9475 - val_loss: 0.2002 - val_accuracy: 0.9415\n",
            "Epoch 38/100\n",
            "12/12 [==============================] - 0s 21ms/step - loss: 0.2265 - accuracy: 0.9475 - val_loss: 0.1960 - val_accuracy: 0.9415\n",
            "Epoch 39/100\n",
            "12/12 [==============================] - 0s 17ms/step - loss: 0.2225 - accuracy: 0.9501 - val_loss: 0.1921 - val_accuracy: 0.9415\n",
            "Epoch 40/100\n",
            "12/12 [==============================] - 0s 14ms/step - loss: 0.2186 - accuracy: 0.9501 - val_loss: 0.1883 - val_accuracy: 0.9415\n",
            "Epoch 41/100\n",
            "12/12 [==============================] - 0s 20ms/step - loss: 0.2149 - accuracy: 0.9501 - val_loss: 0.1848 - val_accuracy: 0.9468\n",
            "Epoch 42/100\n",
            "12/12 [==============================] - 0s 18ms/step - loss: 0.2115 - accuracy: 0.9501 - val_loss: 0.1812 - val_accuracy: 0.9521\n",
            "Epoch 43/100\n",
            "12/12 [==============================] - 0s 10ms/step - loss: 0.2081 - accuracy: 0.9554 - val_loss: 0.1781 - val_accuracy: 0.9521\n",
            "Epoch 44/100\n",
            "12/12 [==============================] - 0s 15ms/step - loss: 0.2049 - accuracy: 0.9554 - val_loss: 0.1748 - val_accuracy: 0.9521\n",
            "Epoch 45/100\n",
            "12/12 [==============================] - 0s 14ms/step - loss: 0.2017 - accuracy: 0.9554 - val_loss: 0.1720 - val_accuracy: 0.9521\n",
            "Epoch 46/100\n",
            "12/12 [==============================] - 0s 11ms/step - loss: 0.1987 - accuracy: 0.9554 - val_loss: 0.1691 - val_accuracy: 0.9521\n",
            "Epoch 47/100\n",
            "12/12 [==============================] - 0s 16ms/step - loss: 0.1958 - accuracy: 0.9580 - val_loss: 0.1664 - val_accuracy: 0.9521\n",
            "Epoch 48/100\n",
            "12/12 [==============================] - 0s 17ms/step - loss: 0.1930 - accuracy: 0.9580 - val_loss: 0.1637 - val_accuracy: 0.9521\n",
            "Epoch 49/100\n",
            "12/12 [==============================] - 0s 9ms/step - loss: 0.1903 - accuracy: 0.9580 - val_loss: 0.1612 - val_accuracy: 0.9521\n",
            "Epoch 50/100\n",
            "12/12 [==============================] - 0s 16ms/step - loss: 0.1877 - accuracy: 0.9580 - val_loss: 0.1587 - val_accuracy: 0.9521\n",
            "Epoch 51/100\n",
            "12/12 [==============================] - 0s 15ms/step - loss: 0.1853 - accuracy: 0.9580 - val_loss: 0.1561 - val_accuracy: 0.9521\n",
            "Epoch 52/100\n",
            "12/12 [==============================] - 0s 16ms/step - loss: 0.1827 - accuracy: 0.9580 - val_loss: 0.1539 - val_accuracy: 0.9521\n",
            "Epoch 53/100\n",
            "12/12 [==============================] - 0s 12ms/step - loss: 0.1804 - accuracy: 0.9580 - val_loss: 0.1517 - val_accuracy: 0.9521\n",
            "Epoch 54/100\n",
            "12/12 [==============================] - 0s 16ms/step - loss: 0.1781 - accuracy: 0.9580 - val_loss: 0.1497 - val_accuracy: 0.9521\n",
            "Epoch 55/100\n",
            "12/12 [==============================] - 0s 7ms/step - loss: 0.1760 - accuracy: 0.9580 - val_loss: 0.1476 - val_accuracy: 0.9521\n",
            "Epoch 56/100\n",
            "12/12 [==============================] - 0s 9ms/step - loss: 0.1739 - accuracy: 0.9606 - val_loss: 0.1455 - val_accuracy: 0.9574\n",
            "Epoch 57/100\n",
            "12/12 [==============================] - 0s 7ms/step - loss: 0.1718 - accuracy: 0.9606 - val_loss: 0.1435 - val_accuracy: 0.9574\n",
            "Epoch 58/100\n",
            "12/12 [==============================] - 0s 17ms/step - loss: 0.1697 - accuracy: 0.9633 - val_loss: 0.1417 - val_accuracy: 0.9574\n",
            "Epoch 59/100\n",
            "12/12 [==============================] - 0s 8ms/step - loss: 0.1678 - accuracy: 0.9633 - val_loss: 0.1400 - val_accuracy: 0.9574\n",
            "Epoch 60/100\n",
            "12/12 [==============================] - 0s 16ms/step - loss: 0.1659 - accuracy: 0.9659 - val_loss: 0.1383 - val_accuracy: 0.9574\n",
            "Epoch 61/100\n",
            "12/12 [==============================] - 0s 17ms/step - loss: 0.1642 - accuracy: 0.9659 - val_loss: 0.1367 - val_accuracy: 0.9574\n",
            "Epoch 62/100\n",
            "12/12 [==============================] - 0s 16ms/step - loss: 0.1624 - accuracy: 0.9659 - val_loss: 0.1349 - val_accuracy: 0.9574\n",
            "Epoch 63/100\n",
            "12/12 [==============================] - 0s 16ms/step - loss: 0.1606 - accuracy: 0.9659 - val_loss: 0.1333 - val_accuracy: 0.9574\n",
            "Epoch 64/100\n",
            "12/12 [==============================] - 0s 13ms/step - loss: 0.1590 - accuracy: 0.9659 - val_loss: 0.1319 - val_accuracy: 0.9574\n",
            "Epoch 65/100\n",
            "12/12 [==============================] - 0s 14ms/step - loss: 0.1573 - accuracy: 0.9659 - val_loss: 0.1303 - val_accuracy: 0.9574\n",
            "Epoch 66/100\n",
            "12/12 [==============================] - 0s 10ms/step - loss: 0.1557 - accuracy: 0.9659 - val_loss: 0.1288 - val_accuracy: 0.9574\n",
            "Epoch 67/100\n",
            "12/12 [==============================] - 0s 19ms/step - loss: 0.1542 - accuracy: 0.9659 - val_loss: 0.1274 - val_accuracy: 0.9628\n",
            "Epoch 68/100\n",
            "12/12 [==============================] - 0s 22ms/step - loss: 0.1527 - accuracy: 0.9659 - val_loss: 0.1261 - val_accuracy: 0.9628\n",
            "Epoch 69/100\n",
            "12/12 [==============================] - 0s 14ms/step - loss: 0.1513 - accuracy: 0.9659 - val_loss: 0.1247 - val_accuracy: 0.9628\n",
            "Epoch 70/100\n",
            "12/12 [==============================] - 0s 12ms/step - loss: 0.1498 - accuracy: 0.9659 - val_loss: 0.1235 - val_accuracy: 0.9628\n",
            "Epoch 71/100\n",
            "12/12 [==============================] - 0s 19ms/step - loss: 0.1484 - accuracy: 0.9659 - val_loss: 0.1223 - val_accuracy: 0.9628\n",
            "Epoch 72/100\n",
            "12/12 [==============================] - 0s 20ms/step - loss: 0.1471 - accuracy: 0.9659 - val_loss: 0.1210 - val_accuracy: 0.9628\n",
            "Epoch 73/100\n",
            "12/12 [==============================] - 0s 20ms/step - loss: 0.1457 - accuracy: 0.9659 - val_loss: 0.1198 - val_accuracy: 0.9628\n",
            "Epoch 74/100\n",
            "12/12 [==============================] - 0s 19ms/step - loss: 0.1445 - accuracy: 0.9659 - val_loss: 0.1187 - val_accuracy: 0.9628\n",
            "Epoch 75/100\n",
            "12/12 [==============================] - 0s 10ms/step - loss: 0.1433 - accuracy: 0.9685 - val_loss: 0.1176 - val_accuracy: 0.9628\n",
            "Epoch 76/100\n",
            "12/12 [==============================] - 0s 10ms/step - loss: 0.1420 - accuracy: 0.9685 - val_loss: 0.1166 - val_accuracy: 0.9628\n",
            "Epoch 77/100\n",
            "12/12 [==============================] - 0s 9ms/step - loss: 0.1408 - accuracy: 0.9685 - val_loss: 0.1155 - val_accuracy: 0.9628\n",
            "Epoch 78/100\n",
            "12/12 [==============================] - 0s 8ms/step - loss: 0.1396 - accuracy: 0.9685 - val_loss: 0.1143 - val_accuracy: 0.9628\n",
            "Epoch 79/100\n",
            "12/12 [==============================] - 0s 8ms/step - loss: 0.1385 - accuracy: 0.9685 - val_loss: 0.1135 - val_accuracy: 0.9628\n",
            "Epoch 80/100\n",
            "12/12 [==============================] - 0s 7ms/step - loss: 0.1373 - accuracy: 0.9685 - val_loss: 0.1126 - val_accuracy: 0.9628\n",
            "Epoch 81/100\n",
            "12/12 [==============================] - 0s 14ms/step - loss: 0.1363 - accuracy: 0.9685 - val_loss: 0.1115 - val_accuracy: 0.9628\n",
            "Epoch 82/100\n",
            "12/12 [==============================] - 0s 12ms/step - loss: 0.1352 - accuracy: 0.9685 - val_loss: 0.1107 - val_accuracy: 0.9628\n",
            "Epoch 83/100\n",
            "12/12 [==============================] - 0s 11ms/step - loss: 0.1342 - accuracy: 0.9685 - val_loss: 0.1098 - val_accuracy: 0.9628\n",
            "Epoch 84/100\n",
            "12/12 [==============================] - 0s 8ms/step - loss: 0.1331 - accuracy: 0.9685 - val_loss: 0.1089 - val_accuracy: 0.9628\n",
            "Epoch 85/100\n",
            "12/12 [==============================] - 0s 21ms/step - loss: 0.1321 - accuracy: 0.9711 - val_loss: 0.1080 - val_accuracy: 0.9628\n",
            "Epoch 86/100\n",
            "12/12 [==============================] - 0s 10ms/step - loss: 0.1312 - accuracy: 0.9711 - val_loss: 0.1071 - val_accuracy: 0.9628\n",
            "Epoch 87/100\n",
            "12/12 [==============================] - 0s 12ms/step - loss: 0.1302 - accuracy: 0.9711 - val_loss: 0.1064 - val_accuracy: 0.9628\n",
            "Epoch 88/100\n",
            "12/12 [==============================] - 0s 6ms/step - loss: 0.1293 - accuracy: 0.9711 - val_loss: 0.1055 - val_accuracy: 0.9628\n",
            "Epoch 89/100\n",
            "12/12 [==============================] - 0s 16ms/step - loss: 0.1283 - accuracy: 0.9711 - val_loss: 0.1048 - val_accuracy: 0.9628\n",
            "Epoch 90/100\n",
            "12/12 [==============================] - 0s 19ms/step - loss: 0.1275 - accuracy: 0.9738 - val_loss: 0.1041 - val_accuracy: 0.9628\n",
            "Epoch 91/100\n",
            "12/12 [==============================] - 0s 14ms/step - loss: 0.1266 - accuracy: 0.9738 - val_loss: 0.1033 - val_accuracy: 0.9628\n",
            "Epoch 92/100\n",
            "12/12 [==============================] - 0s 11ms/step - loss: 0.1257 - accuracy: 0.9738 - val_loss: 0.1026 - val_accuracy: 0.9628\n",
            "Epoch 93/100\n",
            "12/12 [==============================] - 0s 12ms/step - loss: 0.1249 - accuracy: 0.9738 - val_loss: 0.1019 - val_accuracy: 0.9628\n",
            "Epoch 94/100\n",
            "12/12 [==============================] - 0s 15ms/step - loss: 0.1240 - accuracy: 0.9738 - val_loss: 0.1012 - val_accuracy: 0.9628\n",
            "Epoch 95/100\n",
            "12/12 [==============================] - 0s 7ms/step - loss: 0.1232 - accuracy: 0.9738 - val_loss: 0.1006 - val_accuracy: 0.9681\n",
            "Epoch 96/100\n",
            "12/12 [==============================] - 0s 9ms/step - loss: 0.1224 - accuracy: 0.9738 - val_loss: 0.0998 - val_accuracy: 0.9681\n",
            "Epoch 97/100\n",
            "12/12 [==============================] - 0s 15ms/step - loss: 0.1216 - accuracy: 0.9738 - val_loss: 0.0992 - val_accuracy: 0.9681\n",
            "Epoch 98/100\n",
            "12/12 [==============================] - 0s 13ms/step - loss: 0.1208 - accuracy: 0.9738 - val_loss: 0.0986 - val_accuracy: 0.9681\n",
            "Epoch 99/100\n",
            "12/12 [==============================] - 0s 13ms/step - loss: 0.1201 - accuracy: 0.9738 - val_loss: 0.0980 - val_accuracy: 0.9734\n",
            "Epoch 100/100\n",
            "12/12 [==============================] - 0s 7ms/step - loss: 0.1193 - accuracy: 0.9738 - val_loss: 0.0974 - val_accuracy: 0.9734\n",
            "12/12 [==============================] - 0s 2ms/step - loss: 0.1189 - accuracy: 0.9738\n",
            "Train score: [0.11890978366136551, 0.9737532734870911]\n",
            "6/6 [==============================] - 0s 3ms/step - loss: 0.0974 - accuracy: 0.9734\n",
            "Test score: [0.09735231101512909, 0.9734042286872864]\n"
          ]
        }
      ]
    }
  ]
}